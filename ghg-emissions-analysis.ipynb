{
 "cells": [
  {
   "cell_type": "code",
   "execution_count": 1,
   "metadata": {},
   "outputs": [],
   "source": [
    "import pandas as pd\n",
    "import sqlite3"
   ]
  },
  {
   "cell_type": "code",
   "execution_count": 2,
   "metadata": {},
   "outputs": [],
   "source": [
    "# Load the data\n",
    "df = pd.read_excel(\"owid-co2-data.xlsx\")"
   ]
  },
  {
   "cell_type": "code",
   "execution_count": 3,
   "metadata": {},
   "outputs": [
    {
     "data": {
      "text/html": [
       "<div>\n",
       "<style scoped>\n",
       "    .dataframe tbody tr th:only-of-type {\n",
       "        vertical-align: middle;\n",
       "    }\n",
       "\n",
       "    .dataframe tbody tr th {\n",
       "        vertical-align: top;\n",
       "    }\n",
       "\n",
       "    .dataframe thead th {\n",
       "        text-align: right;\n",
       "    }\n",
       "</style>\n",
       "<table border=\"1\" class=\"dataframe\">\n",
       "  <thead>\n",
       "    <tr style=\"text-align: right;\">\n",
       "      <th></th>\n",
       "      <th>country</th>\n",
       "      <th>year</th>\n",
       "      <th>iso_code</th>\n",
       "      <th>population</th>\n",
       "      <th>gdp</th>\n",
       "      <th>cement_co2</th>\n",
       "      <th>cement_co2_per_capita</th>\n",
       "      <th>co2</th>\n",
       "      <th>co2_growth_abs</th>\n",
       "      <th>co2_growth_prct</th>\n",
       "      <th>...</th>\n",
       "      <th>share_global_other_co2</th>\n",
       "      <th>share_of_temperature_change_from_ghg</th>\n",
       "      <th>temperature_change_from_ch4</th>\n",
       "      <th>temperature_change_from_co2</th>\n",
       "      <th>temperature_change_from_ghg</th>\n",
       "      <th>temperature_change_from_n2o</th>\n",
       "      <th>total_ghg</th>\n",
       "      <th>total_ghg_excluding_lucf</th>\n",
       "      <th>trade_co2</th>\n",
       "      <th>trade_co2_share</th>\n",
       "    </tr>\n",
       "  </thead>\n",
       "  <tbody>\n",
       "    <tr>\n",
       "      <th>0</th>\n",
       "      <td>Afghanistan</td>\n",
       "      <td>1850</td>\n",
       "      <td>AFG</td>\n",
       "      <td>3752993.0</td>\n",
       "      <td>NaN</td>\n",
       "      <td>NaN</td>\n",
       "      <td>NaN</td>\n",
       "      <td>NaN</td>\n",
       "      <td>NaN</td>\n",
       "      <td>NaN</td>\n",
       "      <td>...</td>\n",
       "      <td>NaN</td>\n",
       "      <td>NaN</td>\n",
       "      <td>NaN</td>\n",
       "      <td>NaN</td>\n",
       "      <td>NaN</td>\n",
       "      <td>NaN</td>\n",
       "      <td>NaN</td>\n",
       "      <td>NaN</td>\n",
       "      <td>NaN</td>\n",
       "      <td>NaN</td>\n",
       "    </tr>\n",
       "    <tr>\n",
       "      <th>1</th>\n",
       "      <td>Afghanistan</td>\n",
       "      <td>1851</td>\n",
       "      <td>AFG</td>\n",
       "      <td>3767956.0</td>\n",
       "      <td>NaN</td>\n",
       "      <td>NaN</td>\n",
       "      <td>NaN</td>\n",
       "      <td>NaN</td>\n",
       "      <td>NaN</td>\n",
       "      <td>NaN</td>\n",
       "      <td>...</td>\n",
       "      <td>NaN</td>\n",
       "      <td>0.165</td>\n",
       "      <td>0.0</td>\n",
       "      <td>0.0</td>\n",
       "      <td>0.0</td>\n",
       "      <td>0.0</td>\n",
       "      <td>NaN</td>\n",
       "      <td>NaN</td>\n",
       "      <td>NaN</td>\n",
       "      <td>NaN</td>\n",
       "    </tr>\n",
       "    <tr>\n",
       "      <th>2</th>\n",
       "      <td>Afghanistan</td>\n",
       "      <td>1852</td>\n",
       "      <td>AFG</td>\n",
       "      <td>3783940.0</td>\n",
       "      <td>NaN</td>\n",
       "      <td>NaN</td>\n",
       "      <td>NaN</td>\n",
       "      <td>NaN</td>\n",
       "      <td>NaN</td>\n",
       "      <td>NaN</td>\n",
       "      <td>...</td>\n",
       "      <td>NaN</td>\n",
       "      <td>0.164</td>\n",
       "      <td>0.0</td>\n",
       "      <td>0.0</td>\n",
       "      <td>0.0</td>\n",
       "      <td>0.0</td>\n",
       "      <td>NaN</td>\n",
       "      <td>NaN</td>\n",
       "      <td>NaN</td>\n",
       "      <td>NaN</td>\n",
       "    </tr>\n",
       "    <tr>\n",
       "      <th>3</th>\n",
       "      <td>Afghanistan</td>\n",
       "      <td>1853</td>\n",
       "      <td>AFG</td>\n",
       "      <td>3800954.0</td>\n",
       "      <td>NaN</td>\n",
       "      <td>NaN</td>\n",
       "      <td>NaN</td>\n",
       "      <td>NaN</td>\n",
       "      <td>NaN</td>\n",
       "      <td>NaN</td>\n",
       "      <td>...</td>\n",
       "      <td>NaN</td>\n",
       "      <td>0.164</td>\n",
       "      <td>0.0</td>\n",
       "      <td>0.0</td>\n",
       "      <td>0.0</td>\n",
       "      <td>0.0</td>\n",
       "      <td>NaN</td>\n",
       "      <td>NaN</td>\n",
       "      <td>NaN</td>\n",
       "      <td>NaN</td>\n",
       "    </tr>\n",
       "    <tr>\n",
       "      <th>4</th>\n",
       "      <td>Afghanistan</td>\n",
       "      <td>1854</td>\n",
       "      <td>AFG</td>\n",
       "      <td>3818038.0</td>\n",
       "      <td>NaN</td>\n",
       "      <td>NaN</td>\n",
       "      <td>NaN</td>\n",
       "      <td>NaN</td>\n",
       "      <td>NaN</td>\n",
       "      <td>NaN</td>\n",
       "      <td>...</td>\n",
       "      <td>NaN</td>\n",
       "      <td>0.163</td>\n",
       "      <td>0.0</td>\n",
       "      <td>0.0</td>\n",
       "      <td>0.0</td>\n",
       "      <td>0.0</td>\n",
       "      <td>NaN</td>\n",
       "      <td>NaN</td>\n",
       "      <td>NaN</td>\n",
       "      <td>NaN</td>\n",
       "    </tr>\n",
       "  </tbody>\n",
       "</table>\n",
       "<p>5 rows × 79 columns</p>\n",
       "</div>"
      ],
      "text/plain": [
       "       country  year iso_code  population  gdp  cement_co2  \\\n",
       "0  Afghanistan  1850      AFG   3752993.0  NaN         NaN   \n",
       "1  Afghanistan  1851      AFG   3767956.0  NaN         NaN   \n",
       "2  Afghanistan  1852      AFG   3783940.0  NaN         NaN   \n",
       "3  Afghanistan  1853      AFG   3800954.0  NaN         NaN   \n",
       "4  Afghanistan  1854      AFG   3818038.0  NaN         NaN   \n",
       "\n",
       "   cement_co2_per_capita  co2  co2_growth_abs  co2_growth_prct  ...  \\\n",
       "0                    NaN  NaN             NaN              NaN  ...   \n",
       "1                    NaN  NaN             NaN              NaN  ...   \n",
       "2                    NaN  NaN             NaN              NaN  ...   \n",
       "3                    NaN  NaN             NaN              NaN  ...   \n",
       "4                    NaN  NaN             NaN              NaN  ...   \n",
       "\n",
       "   share_global_other_co2  share_of_temperature_change_from_ghg  \\\n",
       "0                     NaN                                   NaN   \n",
       "1                     NaN                                 0.165   \n",
       "2                     NaN                                 0.164   \n",
       "3                     NaN                                 0.164   \n",
       "4                     NaN                                 0.163   \n",
       "\n",
       "   temperature_change_from_ch4  temperature_change_from_co2  \\\n",
       "0                          NaN                          NaN   \n",
       "1                          0.0                          0.0   \n",
       "2                          0.0                          0.0   \n",
       "3                          0.0                          0.0   \n",
       "4                          0.0                          0.0   \n",
       "\n",
       "   temperature_change_from_ghg  temperature_change_from_n2o  total_ghg  \\\n",
       "0                          NaN                          NaN        NaN   \n",
       "1                          0.0                          0.0        NaN   \n",
       "2                          0.0                          0.0        NaN   \n",
       "3                          0.0                          0.0        NaN   \n",
       "4                          0.0                          0.0        NaN   \n",
       "\n",
       "   total_ghg_excluding_lucf  trade_co2  trade_co2_share  \n",
       "0                       NaN        NaN              NaN  \n",
       "1                       NaN        NaN              NaN  \n",
       "2                       NaN        NaN              NaN  \n",
       "3                       NaN        NaN              NaN  \n",
       "4                       NaN        NaN              NaN  \n",
       "\n",
       "[5 rows x 79 columns]"
      ]
     },
     "execution_count": 3,
     "metadata": {},
     "output_type": "execute_result"
    }
   ],
   "source": [
    "# Display the first few rows of the DataFrame\n",
    "df.head()"
   ]
  },
  {
   "cell_type": "code",
   "execution_count": 4,
   "metadata": {},
   "outputs": [],
   "source": [
    "# Connect to the SQLite database\n",
    "conn = sqlite3.connect('co2_data.db')"
   ]
  },
  {
   "cell_type": "code",
   "execution_count": 5,
   "metadata": {},
   "outputs": [],
   "source": [
    "# Write the DataFrame to a SQLite table\n",
    "df.to_sql('co2_data', conn, if_exists='replace', index=False)"
   ]
  },
  {
   "cell_type": "code",
   "execution_count": 6,
   "metadata": {},
   "outputs": [],
   "source": [
    "# Query to examine trends in annual CO2 emissions\n",
    "query1 = \"\"\"\n",
    "SELECT year, SUM(co2) AS total_co2_emissions\n",
    "FROM co2_data\n",
    "GROUP BY year\n",
    "ORDER BY year;\n",
    "\"\"\""
   ]
  },
  {
   "cell_type": "code",
   "execution_count": 7,
   "metadata": {},
   "outputs": [
    {
     "name": "stdout",
     "output_type": "stream",
     "text": [
      "   year  total_co2_emissions\n",
      "0  1750               55.836\n",
      "1  1751               56.442\n",
      "2  1752               57.030\n",
      "3  1753               57.660\n",
      "4  1754               58.404\n"
     ]
    }
   ],
   "source": [
    "# Execute the query\n",
    "result1 = pd.read_sql_query(query1, conn)\n",
    "print(result1.head())"
   ]
  },
  {
   "cell_type": "code",
   "execution_count": 8,
   "metadata": {},
   "outputs": [
    {
     "data": {
      "image/png": "[encoded data removed]",
      "text/plain": [
       "<Figure size 720x432 with 1 Axes>"
      ]
     },
     "metadata": {
      "needs_background": "light"
     },
     "output_type": "display_data"
    }
   ],
   "source": [
    "import matplotlib.pyplot as plt\n",
    "\n",
    "# Plot trends in annual CO2 emissions\n",
    "plt.figure(figsize=(10, 6)) \n",
    "plt.plot(result1['year'], result1['total_co2_emissions'])\n",
    "plt.xlabel('Year')\n",
    "plt.ylabel('Total CO2 Emissions (million tonnes)')\n",
    "plt.title('Trends in Annual CO2 Emissions')\n",
    "plt.show()"
   ]
  },
  {
   "cell_type": "code",
   "execution_count": 9,
   "metadata": {},
   "outputs": [],
   "source": [
    "# Query to analyze per capita emissions by countries in the last 10 years\n",
    "query2 = \"\"\"\n",
    "SELECT country, AVG(co2_per_capita) AS avg_co2_per_capita_last_10_years\n",
    "FROM (\n",
    "    SELECT country, co2_per_capita\n",
    "    FROM co2_data\n",
    "    WHERE year >= (SELECT MAX(year) - 9 FROM co2_data) -- Filter data for the last 10 years\n",
    ") AS recent_data\n",
    "GROUP BY country\n",
    "ORDER BY avg_co2_per_capita_last_10_years DESC;\n",
    "\"\"\""
   ]
  },
  {
   "cell_type": "code",
   "execution_count": 10,
   "metadata": {},
   "outputs": [
    {
     "name": "stdout",
     "output_type": "stream",
     "text": [
      "                country  avg_co2_per_capita_last_10_years\n",
      "0                 Qatar                           37.5320\n",
      "1   Trinidad and Tobago                           27.2169\n",
      "2               Curacao                           24.7378\n",
      "3  United Arab Emirates                           24.3315\n",
      "4               Bahrain                           24.1151\n"
     ]
    }
   ],
   "source": [
    "# Execute the query\n",
    "result2 = pd.read_sql_query(query2, conn)\n",
    "print(result2.head())"
   ]
  },
  {
   "cell_type": "code",
   "execution_count": 11,
   "metadata": {},
   "outputs": [
    {
     "data": {
      "image/png": "[encoded data removed]",
      "text/plain": [
       "<Figure size 720x432 with 1 Axes>"
      ]
     },
     "metadata": {
      "needs_background": "light"
     },
     "output_type": "display_data"
    }
   ],
   "source": [
    "# Plot distribution of per capita emissions\n",
    "plt.figure(figsize=(10, 6))\n",
    "plt.bar(result2['country'][:10], result2['avg_co2_per_capita_last_10_years'][:10])\n",
    "plt.xlabel('Country')\n",
    "plt.ylabel('Average CO2 Emissions per Capita (tonnes)')\n",
    "plt.title('Distribution of Per Capita CO2 Emissions (Top 10 Countries)')\n",
    "plt.xticks(rotation=45)\n",
    "plt.show()"
   ]
  }
 ],
 "metadata": {
  "kernelspec": {
   "display_name": "Python 3",
   "language": "python",
   "name": "python3"
  },
  "language_info": {
   "codemirror_mode": {
    "name": "ipython",
    "version": 3
   },
   "file_extension": ".py",
   "mimetype": "text/x-python",
   "name": "python",
   "nbconvert_exporter": "python",
   "pygments_lexer": "ipython3",
   "version": "3.8.5"
  }
 },
 "nbformat": 4,
 "nbformat_minor": 4
}
